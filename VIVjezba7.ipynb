{
  "cells": [
    {
      "cell_type": "markdown",
      "metadata": {
        "id": "view-in-github",
        "colab_type": "text"
      },
      "source": [
        "<a href=\"https://colab.research.google.com/github/AnesCenanovic/Vje-ta-kaInteligencija/blob/main/VIVjezba7.ipynb\" target=\"_parent\"><img src=\"https://colab.research.google.com/assets/colab-badge.svg\" alt=\"Open In Colab\"/></a>"
      ]
    },
    {
      "cell_type": "code",
      "execution_count": 27,
      "metadata": {
        "colab": {
          "base_uri": "https://localhost:8080/"
        },
        "id": "lueImjRxAw0M",
        "outputId": "95ddf418-b3f7-47a0-9eaa-e2114888dc18"
      },
      "outputs": [
        {
          "output_type": "stream",
          "name": "stdout",
          "text": [
            "Mounted at /content/drive\n",
            "Google Drive mounted successfully.\n",
            "Current Working Directory: /content\n",
            "PyKE installation directory (expected on Drive): /content/drive/MyDrive/VI/pyke-1.1.1\n",
            "Family relations example path (on Drive): /content/drive/MyDrive/VI/pyke-1.1.1/examples/family_relations\n",
            "SUCCESS: Found family_relations directory at: /content/drive/MyDrive/VI/pyke-1.1.1/examples/family_relations\n",
            "Successfully imported PyKE components (knowledge_engine, goal).\n",
            "Successfully imported 'driver' module.\n",
            "\n",
            "Reloading DRIVER.PY with modifications for Task 1.b...\n",
            "----------------------------------------\n",
            "--- Testing Task 1.b: Relationship between 'bruce' and 'mitch' ---\n",
            "An unexpected error occurred during driver testing: fc_test() missing 1 required positional argument: 'person2'\n"
          ]
        }
      ],
      "source": [
        "import sys\n",
        "import os\n",
        "from importlib import reload\n",
        "from google.colab import drive\n",
        "\n",
        "try:\n",
        "    drive.mount('/content/drive', force_remount=True)\n",
        "    print(\"Google Drive mounted successfully.\")\n",
        "except Exception as e:\n",
        "    print(f\"Error mounting Google Drive: {e}\")\n",
        "    sys.exit(\"Cannot proceed without Google Drive.\")\n",
        "\n",
        "pyke_parent_on_drive = '/content/drive/MyDrive/VI'\n",
        "\n",
        "pyke_installation_dir = os.path.join(pyke_parent_on_drive, \"pyke-1.1.1\")\n",
        "\n",
        "family_relations_example_path = os.path.join(pyke_installation_dir, \"examples\", \"family_relations\")\n",
        "\n",
        "current_working_directory = os.getcwd()\n",
        "print(f\"Current Working Directory: {current_working_directory}\")\n",
        "\n",
        "print(f\"PyKE installation directory (expected on Drive): {pyke_installation_dir}\")\n",
        "print(f\"Family relations example path (on Drive): {family_relations_example_path}\")\n",
        "\n",
        "\n",
        "if os.path.isdir(pyke_installation_dir):\n",
        "    if pyke_installation_dir not in sys.path:\n",
        "        sys.path.insert(0, pyke_installation_dir)\n",
        "        print(f\"Added to sys.path for PyKE core: {pyke_installation_dir}\")\n",
        "    if not os.path.isdir(os.path.join(pyke_installation_dir, \"pyke\")):\n",
        "        print(f\"WARNING: The 'pyke' package folder was not found inside '{pyke_installation_dir}'.\")\n",
        "        print(\"         'from pyke import ...' might fail. Check your 'pyke_parent_on_drive' path.\")\n",
        "else:\n",
        "    print(f\"ERROR: PyKE installation directory '{pyke_installation_dir}' does not exist on your Google Drive.\")\n",
        "    print(\"Please check your 'pyke_parent_on_drive' variable and ensure 'pyke-1.1.1' is at that location.\")\n",
        "\n",
        "\n",
        "if not os.path.isdir(family_relations_example_path):\n",
        "    print(f\"ERROR: The family relations example path '{family_relations_example_path}' does not exist.\")\n",
        "    print(\"This usually means the 'pyke_installation_dir' is incorrect or the examples folder is missing.\")\n",
        "else:\n",
        "    print(f\"SUCCESS: Found family_relations directory at: {family_relations_example_path}\")\n",
        "    if family_relations_example_path not in sys.path:\n",
        "        sys.path.insert(0, family_relations_example_path)\n",
        "        print(f\"Added to sys.path for examples: {family_relations_example_path}\")\n",
        "\n",
        "# --- PyKE Import Test ---\n",
        "try:\n",
        "    from pyke import knowledge_engine, goal\n",
        "    print(\"Successfully imported PyKE components (knowledge_engine, goal).\")\n",
        "except ImportError as e:\n",
        "    print(f\"ERROR importing PyKE: {e}\")\n",
        "    print(\"PyKE might not be found. Double-check:\")\n",
        "    print(f\"  1. Your 'pyke_parent_on_drive' setting: '{pyke_parent_on_drive}'\")\n",
        "    print(f\"  2. That '{pyke_installation_dir}' is the correct full path to 'pyke-1.1.1'.\")\n",
        "    print(f\"  3. That '{os.path.join(pyke_installation_dir, 'pyke')}' exists.\")\n",
        "    print(\"Current sys.path entries containing 'pyke':\")\n",
        "    for p in sys.path:\n",
        "        if \"pyke\" in p.lower(): print(f\"  - {p}\")\n",
        "\n",
        "# --- Driver Import and Test ---\n",
        "try:\n",
        "    import driver\n",
        "    print(\"Successfully imported 'driver' module.\")\n",
        "\n",
        "    print(\"\\nReloading DRIVER.PY with modifications for Task 1.b...\")\n",
        "    reload(driver)\n",
        "    print(\"-\" * 40)\n",
        "\n",
        "    print(\"--- Testing Task 1.b: Relationship between 'bruce' and 'mitch' ---\")\n",
        "    driver.fc_test('bruce')\n",
        "    print(\"-\" * 40)\n",
        "\n",
        "    print(\"--- Testing Task 1.b: Relationship between 'norma' and 'allen' ---\")\n",
        "    driver.fc_test('norma')\n",
        "    print(\"-\" * 40)\n",
        "\n",
        "    print(\"--- Testing Task 1.b: Relationship between 'bruce' and 'non_existent_person' ---\")\n",
        "    driver.fc_test('bruce')\n",
        "    print(\"-\" * 40)\n",
        "\n",
        "except ImportError as e:\n",
        "    print(f\"ERROR importing 'driver': {e}\")\n",
        "    print(f\"Ensure 'driver.py' exists in '{family_relations_example_path}' (on your Drive).\")\n",
        "    print(\"Current sys.path entries containing 'family_relations':\")\n",
        "    for p in sys.path:\n",
        "        if \"family_relations\" in p.lower(): print(f\"  - {p}\")\n",
        "except AttributeError as e:\n",
        "    print(f\"AttributeError: {e}. This might mean 'driver' was imported, but 'fc_test' is not defined or there's an issue within driver.py.\")\n",
        "except Exception as e:\n",
        "    print(f\"An unexpected error occurred during driver testing: {e}\")"
      ]
    },
    {
      "cell_type": "code",
      "source": [
        "\n",
        "    driver.fc_test('bruce')\n",
        "    print(\"-\" * 40)"
      ],
      "metadata": {
        "colab": {
          "base_uri": "https://localhost:8080/"
        },
        "id": "ECakYgh--csn",
        "outputId": "670bb540-c1c4-428f-d9c2-8b638bc84be5"
      },
      "execution_count": 2,
      "outputs": [
        {
          "output_type": "stream",
          "name": "stdout",
          "text": [
            "doing proof\n",
            "bruce, thomas are ('son', 'father')\n",
            "bruce, norma are ('son', 'mother')\n",
            "bruce, frederik are (('grand', 'son'), ('grand', 'father'))\n",
            "bruce, mary are (('grand', 'son'), ('grand', 'mother'))\n",
            "bruce, allen are (('grand', 'son'), ('grand', 'father'))\n",
            "bruce, ismay are (('grand', 'son'), ('grand', 'mother'))\n",
            "bruce, m_thomas are ('father', 'son')\n",
            "bruce, david_a are ('father', 'son')\n",
            "bruce, fred_a are ('brother', 'brother')\n",
            "bruce, tim are ('brother', 'brother')\n",
            "bruce, vicki are ('brother', 'sister')\n",
            "bruce, jill are ('brother', 'sister')\n",
            "bruce, joyce are ('nephew', 'aunt')\n",
            "bruce, phyllis are ('nephew', 'aunt')\n",
            "bruce, john_w are ('nephew', 'uncle')\n",
            "bruce, bill are ('nephew', 'uncle')\n",
            "bruce, chuck_w are ('nephew', 'uncle')\n",
            "bruce, david_c are ('1st', 'cousins')\n",
            "bruce, danny are ('1st', 'cousins')\n",
            "bruce, dee are ('1st', 'cousins')\n",
            "bruce, mitch are ('1st', 'cousins')\n",
            "bruce, jonni are ('1st', 'cousins')\n",
            "bruce, lorri are ('1st', 'cousins')\n",
            "bruce, steve_w are ('1st', 'cousins')\n",
            "bruce, jim are ('1st', 'cousins')\n",
            "bruce, jeri are ('1st', 'cousins')\n",
            "bruce, annette are ('1st', 'cousins')\n",
            "bruce, helen_w are ('1st', 'cousins')\n",
            "bruce, mary_w are ('1st', 'cousins')\n",
            "bruce, charli are ('1st', 'cousins', 1, 'removed')\n",
            "bruce, jimjim are ('1st', 'cousins', 1, 'removed')\n",
            "bruce, johnjohn are ('1st', 'cousins', 1, 'removed')\n",
            "bruce, jamie are ('1st', 'cousins', 1, 'removed')\n",
            "bruce, david_w are ('1st', 'cousins', 1, 'removed')\n",
            "bruce, jessica are ('1st', 'cousins', 1, 'removed')\n",
            "bruce, bridget are ('1st', 'cousins', 1, 'removed')\n",
            "bruce, brian2 are ('1st', 'cousins', 1, 'removed')\n",
            "bruce, victoria are ('1st', 'cousins', 1, 'removed')\n",
            "\n",
            "done\n",
            "family: 9 fact names, 94 universal facts, 6920 case_specific facts\n",
            "fc_example: 20 fc_rules, 6772 triggered, 892 rerun\n",
            "fc_example: 0 bc_rules, 0 goals, 0 rules matched\n",
            "            0 successes, 0 failures\n",
            "fc time 0.38, 18056 asserts/sec\n",
            "----------------------------------------\n"
          ]
        }
      ]
    },
    {
      "cell_type": "code",
      "source": [
        "driver.fc_test('bruce', 'mitch')\n",
        "print(\"-\" * 40)"
      ],
      "metadata": {
        "colab": {
          "base_uri": "https://localhost:8080/"
        },
        "id": "lHRqp2i8_TdO",
        "outputId": "91a32002-458c-4aca-8655-536dcaee912d"
      },
      "execution_count": 9,
      "outputs": [
        {
          "output_type": "stream",
          "name": "stdout",
          "text": [
            "--- Finding relationship between bruce and mitch ---\n",
            "    Note: Could not load 'facts.kfb' (or it's already processed): 'engine' object has no attribute 'load_generic_fact_module'\n",
            "    Proceeding with existing facts in the engine.\n",
            "    Activated 'fc_rules'. Engine has derived facts.\n",
            "    FOUND: bruce and mitch are related as: 1st cousins\n",
            "----------------------------------------\n"
          ]
        }
      ]
    },
    {
      "cell_type": "code",
      "source": [
        "driver.find_brothers_of('bruce')\n",
        "print(\"-\" * 40)"
      ],
      "metadata": {
        "colab": {
          "base_uri": "https://localhost:8080/"
        },
        "id": "-TvRLE35C3lX",
        "outputId": "3e485f72-9d32-4add-fe42-ad82cd5f7525"
      },
      "execution_count": 12,
      "outputs": [
        {
          "output_type": "stream",
          "name": "stdout",
          "text": [
            "--- Finding people to whom 'bruce' is a brother ---\n",
            "    FOUND: 'bruce' is a brother to 'fred_a'.\n",
            "    FOUND: 'bruce' is a brother to 'tim'.\n",
            "    FOUND: 'bruce' is a brother to 'vicki'.\n",
            "    FOUND: 'bruce' is a brother to 'jill'.\n",
            "    Summary: 'bruce' is a brother to: fred_a, tim, vicki, jill\n",
            "----------------------------------------\n",
            "----------------------------------------\n"
          ]
        }
      ]
    },
    {
      "cell_type": "code",
      "source": [
        "driver.find_sisters_of('vicki')\n",
        "print(\"-\" * 40)"
      ],
      "metadata": {
        "colab": {
          "base_uri": "https://localhost:8080/"
        },
        "id": "f7Pblj0JDmT2",
        "outputId": "4c54b5c1-a7e5-4282-ba33-542b81128ec8"
      },
      "execution_count": 16,
      "outputs": [
        {
          "output_type": "stream",
          "name": "stdout",
          "text": [
            "--- Finding people to whom 'vicki' is a sister ---\n",
            "    FOUND: 'vicki' is a sister to 'jill'.\n",
            "    FOUND: 'vicki' is a sister to 'bruce'.\n",
            "    FOUND: 'vicki' is a sister to 'fred_a'.\n",
            "    FOUND: 'vicki' is a sister to 'tim'.\n",
            "    Summary: 'vicki' is a sister to: jill, bruce, fred_a, tim\n",
            "----------------------------------------\n",
            "----------------------------------------\n"
          ]
        }
      ]
    },
    {
      "cell_type": "code",
      "source": [
        "driver.find_siblings_of('vicki')\n",
        "print(\"-\" * 40)"
      ],
      "metadata": {
        "colab": {
          "base_uri": "https://localhost:8080/"
        },
        "id": "Edxj3oWdGNPW",
        "outputId": "8f4e205d-7fa8-426d-cd37-3a02dfd45e49"
      },
      "execution_count": 21,
      "outputs": [
        {
          "output_type": "stream",
          "name": "stdout",
          "text": [
            "--- Finding siblings of 'vicki' ---\n",
            "    FOUND: 'vicki' is a sister to 'jill'.\n",
            "    FOUND: 'vicki' is a sister to 'bruce'.\n",
            "    FOUND: 'vicki' is a sister to 'fred_a'.\n",
            "    FOUND: 'vicki' is a sister to 'tim'.\n",
            "    Summary: 'vicki' has the following siblings: bruce, fred_a, jill, tim\n",
            "----------------------------------------\n",
            "----------------------------------------\n"
          ]
        }
      ]
    },
    {
      "cell_type": "code",
      "source": [
        "driver.are_they_siblings('vicki', 'jill')\n",
        "print(\"-\" * 40)\n",
        "driver.are_they_siblings('vicki', 'mitch')"
      ],
      "metadata": {
        "colab": {
          "base_uri": "https://localhost:8080/"
        },
        "id": "M3YU54A1G2LG",
        "outputId": "4552f019-70d2-49f1-abf0-1aed52cdbe8e"
      },
      "execution_count": 23,
      "outputs": [
        {
          "output_type": "stream",
          "name": "stdout",
          "text": [
            "YES: 'vicki' is a sister to 'jill'. They are siblings.\n",
            "----------------------------------------\n"
          ]
        },
        {
          "output_type": "execute_result",
          "data": {
            "text/plain": [
              "False"
            ]
          },
          "metadata": {},
          "execution_count": 23
        }
      ]
    },
    {
      "cell_type": "code",
      "source": [
        "driver.find_grandparents_of('bruce')\n",
        "print(\"-\" * 40)"
      ],
      "metadata": {
        "colab": {
          "base_uri": "https://localhost:8080/"
        },
        "id": "nkcE6EbVHkUu",
        "outputId": "4f4e63e9-e82f-487e-ffcc-7d9251764053"
      },
      "execution_count": 25,
      "outputs": [
        {
          "output_type": "stream",
          "name": "stdout",
          "text": [
            "--- Finding grandparents of 'bruce' ---\n",
            "    FOUND: 'frederik' is a grandparent of 'bruce'.\n",
            "    FOUND: 'mary' is a grandparent of 'bruce'.\n",
            "    FOUND: 'allen' is a grandparent of 'bruce'.\n",
            "    FOUND: 'ismay' is a grandparent of 'bruce'.\n",
            "    Summary: Grandparents of 'bruce': allen, frederik, ismay, mary\n",
            "----------------------------------------\n",
            "----------------------------------------\n"
          ]
        }
      ]
    },
    {
      "cell_type": "markdown",
      "source": [
        "Zadatak 2"
      ],
      "metadata": {
        "id": "GZe2KFl_Is1V"
      }
    },
    {
      "cell_type": "code",
      "source": [
        "import os\n",
        "\n",
        "pyke_projects_parent_dir = '/content/drive/MyDrive/VI' # Or any other path you prefer\n",
        "if not os.path.exists(pyke_projects_parent_dir):\n",
        "    os.makedirs(pyke_projects_parent_dir)\n",
        "    print(f\"Created directory: {pyke_projects_parent_dir}\")\n",
        "\n",
        "weather_system_name = 'WeatherAdvisor'\n",
        "weather_system_path = os.path.join(pyke_projects_parent_dir, weather_system_name)\n",
        "\n",
        "if not os.path.exists(weather_system_path):\n",
        "    os.makedirs(weather_system_path)\n",
        "    print(f\"Created directory: {weather_system_path}\")\n",
        "else:\n",
        "    print(f\"Directory already exists: {weather_system_path}\")\n",
        "\n",
        "print(f\"Your new weather expert system files should go into: {weather_system_path}\")\n"
      ],
      "metadata": {
        "colab": {
          "base_uri": "https://localhost:8080/"
        },
        "id": "odzlnBY5ItoV",
        "outputId": "603341a8-68d8-4f7d-b7e8-dadbe03287f8"
      },
      "execution_count": 59,
      "outputs": [
        {
          "output_type": "stream",
          "name": "stdout",
          "text": [
            "Directory already exists: /content/drive/MyDrive/VI/WeatherAdvisor\n",
            "Your new weather expert system files should go into: /content/drive/MyDrive/VI/WeatherAdvisor\n"
          ]
        }
      ]
    },
    {
      "cell_type": "code",
      "source": [
        "from google.colab import drive\n",
        "drive.mount('/content/drive', force_remount=True)"
      ],
      "metadata": {
        "colab": {
          "base_uri": "https://localhost:8080/"
        },
        "id": "uNtsCUwPLwUN",
        "outputId": "a513b8b5-323c-4cc5-8cce-b546b3a36326"
      },
      "execution_count": 60,
      "outputs": [
        {
          "output_type": "stream",
          "name": "stdout",
          "text": [
            "Mounted at /content/drive\n"
          ]
        }
      ]
    },
    {
      "cell_type": "code",
      "source": [
        "!python /content/drive/MyDrive/VI/WeatherAdvisor/weather_driver.py\n",
        "print(\"-\" * 40)"
      ],
      "metadata": {
        "colab": {
          "base_uri": "https://localhost:8080/"
        },
        "id": "HE_wTUnsJ-b-",
        "outputId": "83235dd8-c415-4ec0-f5c8-31365f9c98aa"
      },
      "execution_count": 61,
      "outputs": [
        {
          "output_type": "stream",
          "name": "stdout",
          "text": [
            "--- Weather Advisor Expert System (from weather_driver.py) ---\n",
            "\n",
            "--- Test Scenario 1: Kiša=True, Vjetar=True ---\n",
            "DEBUG: Activating 'weather_rules' (with FC tracing enabled)...\n",
            "DEBUG: 'weather_rules' activation complete.\n",
            "\n",
            "DEBUG: Dumping all known facts after activation:\n",
            "  Facts in Knowledge Base: 'special' (type: <class 'pyke.special.special_knowledge_base'>)\n",
            "      (No facts found or unable to determine how to dump for KB type <class 'pyke.special.special_knowledge_base'>)\n",
            "  Facts in Knowledge Base: 'weather_facts' (type: <class 'pyke.fact_base.fact_base'>)\n",
            "      (No facts found or unable to determine how to dump for KB type <class 'pyke.fact_base.fact_base'>)\n",
            "  Facts in Knowledge Base: 'weather_rules' (type: <class 'pyke.rule_base.rule_base'>)\n",
            "      (No facts found or unable to determine how to dump for KB type <class 'pyke.rule_base.rule_base'>)\n",
            "  Facts in Knowledge Base: 'weather' (type: <class 'pyke.fact_base.fact_base'>)\n",
            "      (No facts found or unable to determine how to dump for KB type <class 'pyke.fact_base.fact_base'>)\n",
            "DEBUG: End of fact dump.\n",
            "\n",
            "DEBUG: Attempting to prove goal: weather_rules.sta_ponijeti_savjet($item)\n",
            "DEBUG: No item_to_bring_raw found from goal (value is: None).\n",
            "Nema specifičnog savjeta za trenutne vremenske uslove prema definisanim pravilima.\n",
            "------------------------------\n",
            "\n",
            "--- Test Scenario 2: Kiša=True, Vjetar=False ---\n",
            "DEBUG: Activating 'weather_rules' (with FC tracing enabled)...\n",
            "DEBUG: 'weather_rules' activation complete.\n",
            "\n",
            "DEBUG: Dumping all known facts after activation:\n",
            "  Facts in Knowledge Base: 'special' (type: <class 'pyke.special.special_knowledge_base'>)\n",
            "      (No facts found or unable to determine how to dump for KB type <class 'pyke.special.special_knowledge_base'>)\n",
            "  Facts in Knowledge Base: 'weather_facts' (type: <class 'pyke.fact_base.fact_base'>)\n",
            "      (No facts found or unable to determine how to dump for KB type <class 'pyke.fact_base.fact_base'>)\n",
            "  Facts in Knowledge Base: 'weather_rules' (type: <class 'pyke.rule_base.rule_base'>)\n",
            "      (No facts found or unable to determine how to dump for KB type <class 'pyke.rule_base.rule_base'>)\n",
            "  Facts in Knowledge Base: 'weather' (type: <class 'pyke.fact_base.fact_base'>)\n",
            "      (No facts found or unable to determine how to dump for KB type <class 'pyke.fact_base.fact_base'>)\n",
            "DEBUG: End of fact dump.\n",
            "\n",
            "DEBUG: Attempting to prove goal: weather_rules.sta_ponijeti_savjet($item)\n",
            "DEBUG: No item_to_bring_raw found from goal (value is: None).\n",
            "Nema specifičnog savjeta za trenutne vremenske uslove prema definisanim pravilima.\n",
            "------------------------------\n",
            "\n",
            "--- Test Scenario 3: Kiša=False, Vjetar=False ---\n",
            "DEBUG: Activating 'weather_rules' (with FC tracing enabled)...\n",
            "DEBUG: 'weather_rules' activation complete.\n",
            "\n",
            "DEBUG: Dumping all known facts after activation:\n",
            "  Facts in Knowledge Base: 'special' (type: <class 'pyke.special.special_knowledge_base'>)\n",
            "      (No facts found or unable to determine how to dump for KB type <class 'pyke.special.special_knowledge_base'>)\n",
            "  Facts in Knowledge Base: 'weather_facts' (type: <class 'pyke.fact_base.fact_base'>)\n",
            "      (No facts found or unable to determine how to dump for KB type <class 'pyke.fact_base.fact_base'>)\n",
            "  Facts in Knowledge Base: 'weather_rules' (type: <class 'pyke.rule_base.rule_base'>)\n",
            "      (No facts found or unable to determine how to dump for KB type <class 'pyke.rule_base.rule_base'>)\n",
            "  Facts in Knowledge Base: 'weather' (type: <class 'pyke.fact_base.fact_base'>)\n",
            "      (No facts found or unable to determine how to dump for KB type <class 'pyke.fact_base.fact_base'>)\n",
            "DEBUG: End of fact dump.\n",
            "\n",
            "DEBUG: Attempting to prove goal: weather_rules.sta_ponijeti_savjet($item)\n",
            "DEBUG: No item_to_bring_raw found from goal (value is: None).\n",
            "Nema specifičnog savjeta za trenutne vremenske uslove prema definisanim pravilima.\n",
            "------------------------------\n",
            "\n",
            "--- Test Scenario 4: Kiša=False, Vjetar=True ---\n",
            "DEBUG: Activating 'weather_rules' (with FC tracing enabled)...\n",
            "DEBUG: 'weather_rules' activation complete.\n",
            "\n",
            "DEBUG: Dumping all known facts after activation:\n",
            "  Facts in Knowledge Base: 'special' (type: <class 'pyke.special.special_knowledge_base'>)\n",
            "      (No facts found or unable to determine how to dump for KB type <class 'pyke.special.special_knowledge_base'>)\n",
            "  Facts in Knowledge Base: 'weather_facts' (type: <class 'pyke.fact_base.fact_base'>)\n",
            "      (No facts found or unable to determine how to dump for KB type <class 'pyke.fact_base.fact_base'>)\n",
            "  Facts in Knowledge Base: 'weather_rules' (type: <class 'pyke.rule_base.rule_base'>)\n",
            "      (No facts found or unable to determine how to dump for KB type <class 'pyke.rule_base.rule_base'>)\n",
            "  Facts in Knowledge Base: 'weather' (type: <class 'pyke.fact_base.fact_base'>)\n",
            "      (No facts found or unable to determine how to dump for KB type <class 'pyke.fact_base.fact_base'>)\n",
            "DEBUG: End of fact dump.\n",
            "\n",
            "DEBUG: Attempting to prove goal: weather_rules.sta_ponijeti_savjet($item)\n",
            "DEBUG: No item_to_bring_raw found from goal (value is: None).\n",
            "Nema specifičnog savjeta za trenutne vremenske uslove prema definisanim pravilima.\n",
            "------------------------------\n",
            "--- Weather Advisor Expert System (from weather_driver.py) ---\n",
            "\n",
            "--- Test Scenario 1: Kiša=True, Vjetar=True ---\n",
            "DEBUG: Activating 'weather_rules' (with FC tracing enabled)...\n",
            "DEBUG: 'weather_rules' activation complete.\n",
            "\n",
            "DEBUG: Dumping all known facts after activation:\n",
            "  Facts in Knowledge Base: 'special' (type: <class 'pyke.special.special_knowledge_base'>)\n",
            "      (No facts found or unable to determine how to dump for KB type <class 'pyke.special.special_knowledge_base'>)\n",
            "  Facts in Knowledge Base: 'weather_facts' (type: <class 'pyke.fact_base.fact_base'>)\n",
            "      (No facts found or unable to determine how to dump for KB type <class 'pyke.fact_base.fact_base'>)\n",
            "  Facts in Knowledge Base: 'weather_rules' (type: <class 'pyke.rule_base.rule_base'>)\n",
            "      (No facts found or unable to determine how to dump for KB type <class 'pyke.rule_base.rule_base'>)\n",
            "  Facts in Knowledge Base: 'weather' (type: <class 'pyke.fact_base.fact_base'>)\n",
            "      (No facts found or unable to determine how to dump for KB type <class 'pyke.fact_base.fact_base'>)\n",
            "DEBUG: End of fact dump.\n",
            "\n",
            "DEBUG: Attempting to prove goal: weather_rules.sta_ponijeti_savjet($item)\n",
            "DEBUG: No item_to_bring_raw found from goal (value is: None).\n",
            "Nema specifičnog savjeta za trenutne vremenske uslove prema definisanim pravilima.\n",
            "------------------------------\n",
            "\n",
            "--- Test Scenario 2: Kiša=True, Vjetar=False ---\n",
            "DEBUG: Activating 'weather_rules' (with FC tracing enabled)...\n",
            "DEBUG: 'weather_rules' activation complete.\n",
            "\n",
            "DEBUG: Dumping all known facts after activation:\n",
            "  Facts in Knowledge Base: 'special' (type: <class 'pyke.special.special_knowledge_base'>)\n",
            "      (No facts found or unable to determine how to dump for KB type <class 'pyke.special.special_knowledge_base'>)\n",
            "  Facts in Knowledge Base: 'weather_facts' (type: <class 'pyke.fact_base.fact_base'>)\n",
            "      (No facts found or unable to determine how to dump for KB type <class 'pyke.fact_base.fact_base'>)\n",
            "  Facts in Knowledge Base: 'weather_rules' (type: <class 'pyke.rule_base.rule_base'>)\n",
            "      (No facts found or unable to determine how to dump for KB type <class 'pyke.rule_base.rule_base'>)\n",
            "  Facts in Knowledge Base: 'weather' (type: <class 'pyke.fact_base.fact_base'>)\n",
            "      (No facts found or unable to determine how to dump for KB type <class 'pyke.fact_base.fact_base'>)\n",
            "DEBUG: End of fact dump.\n",
            "\n",
            "DEBUG: Attempting to prove goal: weather_rules.sta_ponijeti_savjet($item)\n",
            "DEBUG: No item_to_bring_raw found from goal (value is: None).\n",
            "Nema specifičnog savjeta za trenutne vremenske uslove prema definisanim pravilima.\n",
            "------------------------------\n",
            "\n",
            "--- Test Scenario 3: Kiša=False, Vjetar=False ---\n",
            "DEBUG: Activating 'weather_rules' (with FC tracing enabled)...\n",
            "DEBUG: 'weather_rules' activation complete.\n",
            "\n",
            "DEBUG: Dumping all known facts after activation:\n",
            "  Facts in Knowledge Base: 'special' (type: <class 'pyke.special.special_knowledge_base'>)\n",
            "      (No facts found or unable to determine how to dump for KB type <class 'pyke.special.special_knowledge_base'>)\n",
            "  Facts in Knowledge Base: 'weather_facts' (type: <class 'pyke.fact_base.fact_base'>)\n",
            "      (No facts found or unable to determine how to dump for KB type <class 'pyke.fact_base.fact_base'>)\n",
            "  Facts in Knowledge Base: 'weather_rules' (type: <class 'pyke.rule_base.rule_base'>)\n",
            "      (No facts found or unable to determine how to dump for KB type <class 'pyke.rule_base.rule_base'>)\n",
            "  Facts in Knowledge Base: 'weather' (type: <class 'pyke.fact_base.fact_base'>)\n",
            "      (No facts found or unable to determine how to dump for KB type <class 'pyke.fact_base.fact_base'>)\n",
            "DEBUG: End of fact dump.\n",
            "\n",
            "DEBUG: Attempting to prove goal: weather_rules.sta_ponijeti_savjet($item)\n",
            "DEBUG: No item_to_bring_raw found from goal (value is: None).\n",
            "Nema specifičnog savjeta za trenutne vremenske uslove prema definisanim pravilima.\n",
            "------------------------------\n",
            "\n",
            "--- Test Scenario 4: Kiša=False, Vjetar=True ---\n",
            "DEBUG: Activating 'weather_rules' (with FC tracing enabled)...\n",
            "DEBUG: 'weather_rules' activation complete.\n",
            "\n",
            "DEBUG: Dumping all known facts after activation:\n",
            "  Facts in Knowledge Base: 'special' (type: <class 'pyke.special.special_knowledge_base'>)\n",
            "      (No facts found or unable to determine how to dump for KB type <class 'pyke.special.special_knowledge_base'>)\n",
            "  Facts in Knowledge Base: 'weather_facts' (type: <class 'pyke.fact_base.fact_base'>)\n",
            "      (No facts found or unable to determine how to dump for KB type <class 'pyke.fact_base.fact_base'>)\n",
            "  Facts in Knowledge Base: 'weather_rules' (type: <class 'pyke.rule_base.rule_base'>)\n",
            "      (No facts found or unable to determine how to dump for KB type <class 'pyke.rule_base.rule_base'>)\n",
            "  Facts in Knowledge Base: 'weather' (type: <class 'pyke.fact_base.fact_base'>)\n",
            "      (No facts found or unable to determine how to dump for KB type <class 'pyke.fact_base.fact_base'>)\n",
            "DEBUG: End of fact dump.\n",
            "\n",
            "DEBUG: Attempting to prove goal: weather_rules.sta_ponijeti_savjet($item)\n",
            "DEBUG: No item_to_bring_raw found from goal (value is: None).\n",
            "Nema specifičnog savjeta za trenutne vremenske uslove prema definisanim pravilima.\n",
            "------------------------------\n",
            "----------------------------------------\n"
          ]
        }
      ]
    }
  ],
  "metadata": {
    "colab": {
      "provenance": [],
      "authorship_tag": "ABX9TyNGmYyLDg7hPRa5hQV1Wl23",
      "include_colab_link": true
    },
    "kernelspec": {
      "display_name": "Python 3",
      "name": "python3"
    },
    "language_info": {
      "name": "python"
    }
  },
  "nbformat": 4,
  "nbformat_minor": 0
}