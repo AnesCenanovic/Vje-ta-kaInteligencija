{
  "nbformat": 4,
  "nbformat_minor": 0,
  "metadata": {
    "colab": {
      "provenance": [],
      "authorship_tag": "ABX9TyOdOSaG3R5SxqBfrfkCUPAG",
      "include_colab_link": true
    },
    "kernelspec": {
      "name": "python3",
      "display_name": "Python 3"
    },
    "language_info": {
      "name": "python"
    }
  },
  "cells": [
    {
      "cell_type": "markdown",
      "metadata": {
        "id": "view-in-github",
        "colab_type": "text"
      },
      "source": [
        "<a href=\"https://colab.research.google.com/github/AnesCenanovic/Vje-ta-kaInteligencija/blob/main/VILab11.ipynb\" target=\"_parent\"><img src=\"https://colab.research.google.com/assets/colab-badge.svg\" alt=\"Open In Colab\"/></a>"
      ]
    },
    {
      "cell_type": "code",
      "source": [
        "pip install pyswarms\n"
      ],
      "metadata": {
        "colab": {
          "base_uri": "https://localhost:8080/"
        },
        "id": "RSpoRaPd6Dzr",
        "outputId": "74df6b2d-aa16-431c-ba09-b2d00b25290c"
      },
      "execution_count": 5,
      "outputs": [
        {
          "output_type": "stream",
          "name": "stdout",
          "text": [
            "Collecting pyswarms\n",
            "  Downloading pyswarms-1.3.0-py2.py3-none-any.whl.metadata (33 kB)\n",
            "Requirement already satisfied: scipy in /usr/local/lib/python3.11/dist-packages (from pyswarms) (1.15.3)\n",
            "Requirement already satisfied: numpy in /usr/local/lib/python3.11/dist-packages (from pyswarms) (2.0.2)\n",
            "Requirement already satisfied: matplotlib>=1.3.1 in /usr/local/lib/python3.11/dist-packages (from pyswarms) (3.10.0)\n",
            "Requirement already satisfied: attrs in /usr/local/lib/python3.11/dist-packages (from pyswarms) (25.3.0)\n",
            "Requirement already satisfied: tqdm in /usr/local/lib/python3.11/dist-packages (from pyswarms) (4.67.1)\n",
            "Requirement already satisfied: future in /usr/local/lib/python3.11/dist-packages (from pyswarms) (1.0.0)\n",
            "Requirement already satisfied: pyyaml in /usr/local/lib/python3.11/dist-packages (from pyswarms) (6.0.2)\n",
            "Requirement already satisfied: contourpy>=1.0.1 in /usr/local/lib/python3.11/dist-packages (from matplotlib>=1.3.1->pyswarms) (1.3.2)\n",
            "Requirement already satisfied: cycler>=0.10 in /usr/local/lib/python3.11/dist-packages (from matplotlib>=1.3.1->pyswarms) (0.12.1)\n",
            "Requirement already satisfied: fonttools>=4.22.0 in /usr/local/lib/python3.11/dist-packages (from matplotlib>=1.3.1->pyswarms) (4.58.1)\n",
            "Requirement already satisfied: kiwisolver>=1.3.1 in /usr/local/lib/python3.11/dist-packages (from matplotlib>=1.3.1->pyswarms) (1.4.8)\n",
            "Requirement already satisfied: packaging>=20.0 in /usr/local/lib/python3.11/dist-packages (from matplotlib>=1.3.1->pyswarms) (24.2)\n",
            "Requirement already satisfied: pillow>=8 in /usr/local/lib/python3.11/dist-packages (from matplotlib>=1.3.1->pyswarms) (11.2.1)\n",
            "Requirement already satisfied: pyparsing>=2.3.1 in /usr/local/lib/python3.11/dist-packages (from matplotlib>=1.3.1->pyswarms) (3.2.3)\n",
            "Requirement already satisfied: python-dateutil>=2.7 in /usr/local/lib/python3.11/dist-packages (from matplotlib>=1.3.1->pyswarms) (2.9.0.post0)\n",
            "Requirement already satisfied: six>=1.5 in /usr/local/lib/python3.11/dist-packages (from python-dateutil>=2.7->matplotlib>=1.3.1->pyswarms) (1.17.0)\n",
            "Downloading pyswarms-1.3.0-py2.py3-none-any.whl (104 kB)\n",
            "\u001b[?25l   \u001b[90m━━━━━━━━━━━━━━━━━━━━━━━━━━━━━━━━━━━━━━━━\u001b[0m \u001b[32m0.0/104.1 kB\u001b[0m \u001b[31m?\u001b[0m eta \u001b[36m-:--:--\u001b[0m\r\u001b[2K   \u001b[90m━━━━━━━━━━━━━━━━━━━━━━━━━━━━━━━━━━━━━━━━\u001b[0m \u001b[32m104.1/104.1 kB\u001b[0m \u001b[31m3.6 MB/s\u001b[0m eta \u001b[36m0:00:00\u001b[0m\n",
            "\u001b[?25hInstalling collected packages: pyswarms\n",
            "Successfully installed pyswarms-1.3.0\n"
          ]
        }
      ]
    },
    {
      "cell_type": "code",
      "execution_count": 8,
      "metadata": {
        "colab": {
          "base_uri": "https://localhost:8080/",
          "height": 940
        },
        "id": "QTo17h3u4NnL",
        "outputId": "29572318-fff9-4603-848c-8c6431be21e5"
      },
      "outputs": [
        {
          "output_type": "stream",
          "name": "stderr",
          "text": [
            "2025-06-03 17:48:36,150 - pyswarms.single.global_best - INFO - Optimize for 100 iters with {'c1': 0.5, 'c2': 0.3, 'w': 0.9}\n",
            "pyswarms.single.global_best: 100%|██████████|100/100, best_cost=0.0812\n",
            "2025-06-03 17:49:08,522 - pyswarms.single.global_best - INFO - Optimization finished | best cost: 0.08119694143533707, best pos: [ 8.91101520e-01  3.38496250e+00  1.12301820e+00  3.33667189e-01\n",
            "  6.18047961e+00  5.12756067e-01  1.47980889e+00 -1.40046902e-01\n",
            "  2.38876035e-01  1.41810254e+00  4.70499213e+00  7.51608695e-02\n",
            " -9.02462859e-02  1.03573384e+00  5.34760595e-01  6.55002996e-01\n",
            "  1.01288656e+00  1.79758621e+00  1.48343792e+00  6.51710345e-01\n",
            " -9.07959130e-01  1.08948552e+00  1.32194736e+00  5.36641828e-01\n",
            "  8.75643915e-01 -2.72437905e-01  1.18340438e+00 -5.89124454e-01\n",
            "  1.88735100e+00  3.59438427e-01  1.71160982e+00 -7.91829206e-01\n",
            "  2.10548853e+00  1.12240285e+00 -2.14423792e-01 -6.21443280e-01\n",
            "  5.43182585e-01  4.57540227e+00  3.51938214e-01 -6.38353058e-01\n",
            "  4.89989093e-03 -3.42888330e-02  1.09276172e+00  1.64644463e+00\n",
            "  1.41077606e+00  4.11042154e+00 -2.11657051e+00  4.48034625e-01\n",
            " -2.25643326e+00  3.01190943e+00 -1.71987777e-01 -2.24572409e-01\n",
            " -9.66174233e-01  2.27181991e+00 -1.35645258e+00  8.83662778e-01\n",
            "  1.40624239e+00  9.69652218e-01  2.59135654e-01  2.11279180e-01\n",
            " -2.03437304e-01  2.27532133e+00  1.36735028e+00 -3.49335492e+00\n",
            "  2.85692663e+00  1.17730161e-01 -1.72171123e+00  8.42265874e-01\n",
            " -4.61665077e-01  4.51708229e-01 -2.43636849e-01  1.31009089e+00\n",
            "  2.71500921e+00  2.41947115e+00 -3.79000504e-01 -1.94071063e+00\n",
            "  4.53178606e+00  2.33686851e+00 -6.69978402e-01 -7.04769153e-01\n",
            " -4.80694903e-01  4.11079726e-01  1.41340561e+00 -2.22017863e-01\n",
            "  6.52218539e-01  1.65273044e+00  5.12262239e-01  1.17718306e+00\n",
            "  7.30895031e-01  9.48023462e-01  4.87727022e-01 -1.11068074e-01\n",
            " -4.93466828e-01  1.12600013e+00  1.59947965e+00 -6.06881032e-01\n",
            "  3.04472266e-01  5.07080793e-01  9.02260514e-01 -5.76852582e-02\n",
            "  1.56710675e+00  1.05328510e+00  1.14292455e+00  4.66483798e-01\n",
            "  2.34276019e+00  2.04207546e+00  8.53485090e-01  3.94589324e-01\n",
            "  9.24836589e-01  1.10801989e+00  1.04545390e+00 -5.38885222e-01\n",
            "  1.30878660e+00  1.32310155e+00 -7.53718031e-01  4.04384326e-01\n",
            "  1.45551397e+00  1.66233678e+00  2.88663642e+00  3.78878268e+00\n",
            " -1.82549940e+00 -1.21332772e+00 -4.35020194e-01  8.98940321e-01\n",
            "  1.76894458e+00  6.39071339e-01  2.83144730e-01  3.87366328e+00\n",
            "  1.45572309e+00 -1.06436734e+00  2.42923611e+00  3.66766373e+00\n",
            "  1.45314144e+00  1.00596890e+00  5.05889433e-01  9.25546699e-01\n",
            "  4.17510115e-01 -4.48772270e-02  1.90480633e+00  8.11011389e-01\n",
            "  1.21422830e+00  2.43188262e+00  1.43760937e+00 -3.05306448e+00\n",
            "  4.17618730e-01  7.20812937e-01 -1.90397533e+00  7.43851905e-01\n",
            " -2.25966594e-01 -9.01257028e-02  2.07509908e+00 -1.27576423e+00\n",
            "  1.10553400e+00  1.35259155e+00  4.89328698e-02 -3.00877608e-01\n",
            "  1.29695122e+00  1.69572978e+00 -1.22731404e+00  7.32444333e-01\n",
            "  9.71668449e-01  1.98154445e+00 -7.42407853e-01]\n"
          ]
        },
        {
          "output_type": "error",
          "ename": "NameError",
          "evalue": "name 'predict' is not defined",
          "traceback": [
            "\u001b[0;31m---------------------------------------------------------------------------\u001b[0m",
            "\u001b[0;31mNameError\u001b[0m                                 Traceback (most recent call last)",
            "\u001b[0;32m<ipython-input-8-bd14c46dffcd>\u001b[0m in \u001b[0;36m<cell line: 0>\u001b[0;34m()\u001b[0m\n\u001b[1;32m     65\u001b[0m \u001b[0mcost\u001b[0m\u001b[0;34m,\u001b[0m \u001b[0mpos\u001b[0m \u001b[0;34m=\u001b[0m \u001b[0moptimizer\u001b[0m\u001b[0;34m.\u001b[0m\u001b[0moptimize\u001b[0m\u001b[0;34m(\u001b[0m\u001b[0mf\u001b[0m\u001b[0;34m,\u001b[0m \u001b[0miters\u001b[0m\u001b[0;34m=\u001b[0m\u001b[0;36m100\u001b[0m\u001b[0;34m)\u001b[0m\u001b[0;34m\u001b[0m\u001b[0;34m\u001b[0m\u001b[0m\n\u001b[1;32m     66\u001b[0m \u001b[0;34m\u001b[0m\u001b[0m\n\u001b[0;32m---> 67\u001b[0;31m \u001b[0;34m(\u001b[0m\u001b[0mnp\u001b[0m\u001b[0;34m.\u001b[0m\u001b[0mround\u001b[0m\u001b[0;34m(\u001b[0m\u001b[0mpredict\u001b[0m\u001b[0;34m(\u001b[0m\u001b[0mpos\u001b[0m\u001b[0;34m)\u001b[0m\u001b[0;34m)\u001b[0m\u001b[0;34m.\u001b[0m\u001b[0mastype\u001b[0m\u001b[0;34m(\u001b[0m\u001b[0;34m'int'\u001b[0m\u001b[0;34m)\u001b[0m \u001b[0;34m==\u001b[0m \u001b[0my_test\u001b[0m\u001b[0;34m)\u001b[0m\u001b[0;34m.\u001b[0m\u001b[0mmean\u001b[0m\u001b[0;34m(\u001b[0m\u001b[0;34m)\u001b[0m\u001b[0;34m\u001b[0m\u001b[0;34m\u001b[0m\u001b[0m\n\u001b[0m\u001b[1;32m     68\u001b[0m \u001b[0;34m\u001b[0m\u001b[0m\n",
            "\u001b[0;31mNameError\u001b[0m: name 'predict' is not defined"
          ]
        }
      ],
      "source": [
        "from sklearn.datasets import load_iris\n",
        "import numpy as np\n",
        "import pyswarms as ps\n",
        "data = load_iris()\n",
        "\n",
        "X = data.data\n",
        "y = data.target\n",
        "\n",
        "y_new = np.zeros([X.shape[0], 3])\n",
        "\n",
        "for i in range(X.shape[0]):\n",
        "  y_new[i, y[i]] = 1.\n",
        "\n",
        "y = y_new\n",
        "\n",
        "from sklearn.model_selection import train_test_split\n",
        "\n",
        "X_train, X_test, y_train, y_test = train_test_split(X, y, test_size=0.3,random_state=42)\n",
        "\n",
        "n_inputs = 4\n",
        "n_hidden = 20\n",
        "n_classes = 3\n",
        "\n",
        "num_samples = 150\n",
        "\n",
        "def probs_function(p, X):\n",
        "  W1 = p[0:80].reshape((n_inputs,n_hidden))\n",
        "  b1 = p[80:100].reshape((n_hidden,))\n",
        "  W2 = p[100:160].reshape((n_hidden,n_classes))\n",
        "  b2 = p[160:163].reshape((n_classes,))\n",
        "\n",
        "  z1 = X.dot(W1) + b1\n",
        "  a1 = np.tanh(z1)\n",
        "  logits = a1.dot(W2) + b2\n",
        "\n",
        "  exp_scores = np.exp(logits)\n",
        "  probs = exp_scores / np.sum(exp_scores, axis=1, keepdims=True)\n",
        "\n",
        "\n",
        "  return probs\n",
        "\n",
        "from keras import losses\n",
        "\n",
        "def forward_prop(params):\n",
        "\n",
        "  probs = probs_function(params, X_train)\n",
        "\n",
        "  cce = losses.CategoricalCrossentropy()\n",
        "  loss = cce(y_train, probs).numpy()\n",
        "\n",
        "  return loss\n",
        "\n",
        "def f(x):\n",
        "  n_particles = x.shape[0]\n",
        "  values = [forward_prop(x[i]) for i in range(n_particles)]\n",
        "  return np.array(values)\n",
        "\n",
        "\n",
        "options = {'c1': 0.5, 'c2': 0.3, 'w':0.9}\n",
        "\n",
        "dimensions = (n_inputs * n_hidden) + (n_hidden * n_classes) + n_hidden + n_classes\n",
        "optimizer = ps.single.GlobalBestPSO(n_particles=100, dimensions=dimensions, options=\n",
        "  options)\n",
        "\n",
        "cost, pos = optimizer.optimize(f, iters=100)\n",
        "\n",
        "(np.round(predict(pos)).astype('int') == y_test).mean()\n",
        "\n"
      ]
    }
  ]
}