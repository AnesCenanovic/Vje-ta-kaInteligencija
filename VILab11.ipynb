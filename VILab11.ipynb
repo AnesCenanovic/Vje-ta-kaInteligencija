{
  "nbformat": 4,
  "nbformat_minor": 0,
  "metadata": {
    "colab": {
      "provenance": [],
      "authorship_tag": "ABX9TyO2ANp2lffB76bwHLrRGFco",
      "include_colab_link": true
    },
    "kernelspec": {
      "name": "python3",
      "display_name": "Python 3"
    },
    "language_info": {
      "name": "python"
    }
  },
  "cells": [
    {
      "cell_type": "markdown",
      "metadata": {
        "id": "view-in-github",
        "colab_type": "text"
      },
      "source": [
        "<a href=\"https://colab.research.google.com/github/AnesCenanovic/Vje-ta-kaInteligencija/blob/main/VILab11.ipynb\" target=\"_parent\"><img src=\"https://colab.research.google.com/assets/colab-badge.svg\" alt=\"Open In Colab\"/></a>"
      ]
    },
    {
      "cell_type": "code",
      "source": [
        "pip install pyswarms\n"
      ],
      "metadata": {
        "colab": {
          "base_uri": "https://localhost:8080/"
        },
        "id": "RSpoRaPd6Dzr",
        "outputId": "612df62a-f988-4624-f241-e0ba4b309dde"
      },
      "execution_count": 2,
      "outputs": [
        {
          "output_type": "stream",
          "name": "stdout",
          "text": [
            "Collecting pyswarms\n",
            "  Downloading pyswarms-1.3.0-py2.py3-none-any.whl.metadata (33 kB)\n",
            "Requirement already satisfied: scipy in /usr/local/lib/python3.11/dist-packages (from pyswarms) (1.15.3)\n",
            "Requirement already satisfied: numpy in /usr/local/lib/python3.11/dist-packages (from pyswarms) (2.0.2)\n",
            "Requirement already satisfied: matplotlib>=1.3.1 in /usr/local/lib/python3.11/dist-packages (from pyswarms) (3.10.0)\n",
            "Requirement already satisfied: attrs in /usr/local/lib/python3.11/dist-packages (from pyswarms) (25.3.0)\n",
            "Requirement already satisfied: tqdm in /usr/local/lib/python3.11/dist-packages (from pyswarms) (4.67.1)\n",
            "Requirement already satisfied: future in /usr/local/lib/python3.11/dist-packages (from pyswarms) (1.0.0)\n",
            "Requirement already satisfied: pyyaml in /usr/local/lib/python3.11/dist-packages (from pyswarms) (6.0.2)\n",
            "Requirement already satisfied: contourpy>=1.0.1 in /usr/local/lib/python3.11/dist-packages (from matplotlib>=1.3.1->pyswarms) (1.3.2)\n",
            "Requirement already satisfied: cycler>=0.10 in /usr/local/lib/python3.11/dist-packages (from matplotlib>=1.3.1->pyswarms) (0.12.1)\n",
            "Requirement already satisfied: fonttools>=4.22.0 in /usr/local/lib/python3.11/dist-packages (from matplotlib>=1.3.1->pyswarms) (4.58.1)\n",
            "Requirement already satisfied: kiwisolver>=1.3.1 in /usr/local/lib/python3.11/dist-packages (from matplotlib>=1.3.1->pyswarms) (1.4.8)\n",
            "Requirement already satisfied: packaging>=20.0 in /usr/local/lib/python3.11/dist-packages (from matplotlib>=1.3.1->pyswarms) (24.2)\n",
            "Requirement already satisfied: pillow>=8 in /usr/local/lib/python3.11/dist-packages (from matplotlib>=1.3.1->pyswarms) (11.2.1)\n",
            "Requirement already satisfied: pyparsing>=2.3.1 in /usr/local/lib/python3.11/dist-packages (from matplotlib>=1.3.1->pyswarms) (3.2.3)\n",
            "Requirement already satisfied: python-dateutil>=2.7 in /usr/local/lib/python3.11/dist-packages (from matplotlib>=1.3.1->pyswarms) (2.9.0.post0)\n",
            "Requirement already satisfied: six>=1.5 in /usr/local/lib/python3.11/dist-packages (from python-dateutil>=2.7->matplotlib>=1.3.1->pyswarms) (1.17.0)\n",
            "Downloading pyswarms-1.3.0-py2.py3-none-any.whl (104 kB)\n",
            "\u001b[2K   \u001b[90m━━━━━━━━━━━━━━━━━━━━━━━━━━━━━━━━━━━━━━━━\u001b[0m \u001b[32m104.1/104.1 kB\u001b[0m \u001b[31m3.5 MB/s\u001b[0m eta \u001b[36m0:00:00\u001b[0m\n",
            "\u001b[?25hInstalling collected packages: pyswarms\n",
            "Successfully installed pyswarms-1.3.0\n"
          ]
        }
      ]
    },
    {
      "cell_type": "code",
      "execution_count": 3,
      "metadata": {
        "colab": {
          "base_uri": "https://localhost:8080/"
        },
        "id": "QTo17h3u4NnL",
        "outputId": "80af2a32-7b40-446e-b968-87dbd9f46a9a"
      },
      "outputs": [
        {
          "output_type": "stream",
          "name": "stderr",
          "text": [
            "2025-06-03 20:33:02,536 - pyswarms.single.global_best - INFO - Optimize for 100 iters with {'c1': 0.5, 'c2': 0.3, 'w': 0.9}\n",
            "pyswarms.single.global_best: 100%|██████████|100/100, best_cost=0.079\n",
            "2025-06-03 20:33:18,984 - pyswarms.single.global_best - INFO - Optimization finished | best cost: 0.0789705440402031, best pos: [-1.24128542e+00  2.27993583e-01 -3.15212598e-01 -7.87411345e-02\n",
            "  2.58464879e-02 -4.88470816e-01  6.99461770e-01 -4.27493262e+00\n",
            "  1.67295742e-01  7.96978812e-02 -6.34391018e-01 -9.50955275e-01\n",
            "  8.55990385e-01 -1.01391416e-03  9.07894960e-01  1.88178696e-01\n",
            "  4.26000579e-01 -4.74669909e-01 -6.54519908e-01  4.56843244e-01\n",
            "  1.73710072e+00 -5.82591433e-01  1.38117833e+00  3.36462628e-02\n",
            "  1.40154392e+00  1.78135620e-01 -3.39732560e-02 -2.53282963e+00\n",
            "  4.70792533e-02 -1.04691178e+00  8.84923988e-01  2.82128445e-01\n",
            " -7.17686658e-01 -1.28200828e+00 -5.13396406e-01 -3.34682350e-01\n",
            "  9.72889447e-02 -4.31977205e-03 -2.86554559e-01 -3.38324645e-02\n",
            " -2.70548652e-01  8.76555383e-01 -7.08816509e-01 -1.05968630e+00\n",
            " -3.39178645e-01  8.43168722e-01  2.54681599e-01  1.01888000e+00\n",
            " -1.14379422e+00  5.99501021e-01  1.18269686e+00 -1.66157916e-02\n",
            " -8.40032780e-01  3.21466297e-01  4.16118491e-01  6.17687418e-01\n",
            "  7.80247000e-01  4.30325597e-01 -3.64648195e-01 -2.06256301e+00\n",
            "  1.47136856e-01 -3.72545719e-01 -3.42882657e-01  8.74946246e-01\n",
            " -1.90989588e+00  6.86094420e-01 -2.46258212e-02 -5.18491590e-01\n",
            " -1.28346270e-01  2.31357683e-01 -7.84753930e-01  3.58524972e-01\n",
            "  4.35398521e-02 -3.95373737e-02 -6.50321098e-01 -1.57304979e-01\n",
            "  7.97728917e-01  6.67526487e-01  6.46236353e-01 -9.06811550e-01\n",
            "  5.70722225e-02 -1.82478287e+00 -3.33236175e-01  2.18234647e-01\n",
            "  5.86599386e-01 -3.36504383e-01  4.78005364e-01 -7.87763869e-02\n",
            " -1.13215524e+00 -6.37905072e-01  9.44540875e-01  4.95814472e-01\n",
            "  7.83032426e-01 -4.58400717e-01 -9.82829640e-02 -6.90491492e-01\n",
            "  2.08457921e-01 -1.63936193e-01  1.17456379e+00  2.80209304e+00\n",
            " -1.36303181e-01  3.57714955e-01 -7.37732677e-01 -2.37706672e+00\n",
            "  5.95390695e-01 -4.65714237e-01  4.85172961e-01 -2.24371354e+00\n",
            "  4.94670069e-01 -5.33149305e-01 -1.21254279e+00 -4.15163663e-01\n",
            "  9.71489480e-01  2.58818002e+00 -3.25853280e+00  1.90536438e-01\n",
            "  8.50106913e-01  1.03418277e-01 -6.65304033e-01 -6.62870616e-02\n",
            "  5.72558612e-02 -2.17525898e+00  5.19995531e-01 -1.62716510e+00\n",
            " -1.67310171e+00  3.14030417e-01 -6.89289190e-01 -1.08366613e+00\n",
            "  9.93900031e-03  1.31187249e+00  3.55853787e-01 -2.25664679e-02\n",
            "  8.66457425e-01  2.27147468e-01  6.17818782e-01 -3.90146574e-01\n",
            " -3.08276918e-01  7.65938701e-01 -1.34588475e-01  1.01578434e+00\n",
            "  1.82636959e-01  6.91461263e-01  2.99650500e-01  2.64928502e-01\n",
            "  3.11865228e-01  2.81911268e-01 -8.02062661e-01  5.40492663e-01\n",
            "  9.93870207e-01  1.51055483e+00 -7.92933578e-01  5.78520362e-01\n",
            " -4.54760438e-01  1.15287724e+00  2.91486767e-01 -9.79159405e-01\n",
            "  5.58346173e-01  3.70126733e-01 -1.28023627e+00 -1.72610831e+00\n",
            " -9.25888739e-01 -4.06791272e-02  7.76251091e-01]\n"
          ]
        },
        {
          "output_type": "execute_result",
          "data": {
            "text/plain": [
              "np.float64(0.9703703703703703)"
            ]
          },
          "metadata": {},
          "execution_count": 3
        }
      ],
      "source": [
        "from sklearn.datasets import load_iris\n",
        "import numpy as np\n",
        "import pyswarms as ps\n",
        "data = load_iris()\n",
        "\n",
        "X = data.data\n",
        "y = data.target\n",
        "\n",
        "y_new = np.zeros([X.shape[0], 3])\n",
        "\n",
        "for i in range(X.shape[0]):\n",
        "  y_new[i, y[i]] = 1.\n",
        "\n",
        "y = y_new\n",
        "\n",
        "from sklearn.model_selection import train_test_split\n",
        "\n",
        "X_train, X_test, y_train, y_test = train_test_split(X, y, test_size=0.3,random_state=42)\n",
        "\n",
        "n_inputs = 4\n",
        "n_hidden = 20\n",
        "n_classes = 3\n",
        "\n",
        "num_samples = 150\n",
        "\n",
        "def probs_function(p, X):\n",
        "  W1 = p[0:80].reshape((n_inputs,n_hidden))\n",
        "  b1 = p[80:100].reshape((n_hidden,))\n",
        "  W2 = p[100:160].reshape((n_hidden,n_classes))\n",
        "  b2 = p[160:163].reshape((n_classes,))\n",
        "\n",
        "  z1 = X.dot(W1) + b1\n",
        "  a1 = np.tanh(z1)\n",
        "  logits = a1.dot(W2) + b2\n",
        "\n",
        "  exp_scores = np.exp(logits)\n",
        "  probs = exp_scores / np.sum(exp_scores, axis=1, keepdims=True)\n",
        "\n",
        "\n",
        "  return probs\n",
        "\n",
        "from keras import losses\n",
        "\n",
        "def forward_prop(params):\n",
        "\n",
        "  probs = probs_function(params, X_train)\n",
        "\n",
        "  cce = losses.CategoricalCrossentropy()\n",
        "  loss = cce(y_train, probs).numpy()\n",
        "\n",
        "  return loss\n",
        "\n",
        "def f(x):\n",
        "  n_particles = x.shape[0]\n",
        "  values = [forward_prop(x[i]) for i in range(n_particles)]\n",
        "  return np.array(values)\n",
        "\n",
        "\n",
        "options = {'c1': 0.5, 'c2': 0.3, 'w':0.9}\n",
        "\n",
        "dimensions = (n_inputs * n_hidden) + (n_hidden * n_classes) + n_hidden + n_classes\n",
        "optimizer = ps.single.GlobalBestPSO(n_particles=100, dimensions=dimensions, options=\n",
        "  options)\n",
        "\n",
        "cost, pos = optimizer.optimize(f, iters=100)\n",
        "\n",
        "def predict(pos) :\n",
        "  probs = probs_function(pos,    X_test)\n",
        "  return probs\n",
        "\n",
        "(np.round(predict(pos)).astype('int') == y_test).mean()\n",
        "\n"
      ]
    }
  ]
}